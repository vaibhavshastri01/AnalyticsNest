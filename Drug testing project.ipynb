{
 "cells": [
  {
   "cell_type": "code",
   "execution_count": 1,
   "id": "b04878f1",
   "metadata": {},
   "outputs": [],
   "source": [
    "import numpy as np\n",
    "import pandas as pd\n",
    "import matplotlib.pyplot as plt\n",
    "import seaborn as sns\n",
    "from scipy.stats import ttest_ind"
   ]
  },
  {
   "cell_type": "code",
   "execution_count": 2,
   "id": "d3558bd9",
   "metadata": {},
   "outputs": [
    {
     "data": {
      "text/html": [
       "<div>\n",
       "<style scoped>\n",
       "    .dataframe tbody tr th:only-of-type {\n",
       "        vertical-align: middle;\n",
       "    }\n",
       "\n",
       "    .dataframe tbody tr th {\n",
       "        vertical-align: top;\n",
       "    }\n",
       "\n",
       "    .dataframe thead th {\n",
       "        text-align: right;\n",
       "    }\n",
       "</style>\n",
       "<table border=\"1\" class=\"dataframe\">\n",
       "  <thead>\n",
       "    <tr style=\"text-align: right;\">\n",
       "      <th></th>\n",
       "      <th>city</th>\n",
       "      <th>gender</th>\n",
       "      <th>age</th>\n",
       "      <th>bmi</th>\n",
       "      <th>sleep</th>\n",
       "      <th>days</th>\n",
       "    </tr>\n",
       "  </thead>\n",
       "  <tbody>\n",
       "    <tr>\n",
       "      <th>0</th>\n",
       "      <td>mumbai</td>\n",
       "      <td>Male</td>\n",
       "      <td>60.0</td>\n",
       "      <td>20.18</td>\n",
       "      <td>6.74</td>\n",
       "      <td>15.52</td>\n",
       "    </tr>\n",
       "    <tr>\n",
       "      <th>1</th>\n",
       "      <td>mumbai</td>\n",
       "      <td>Female</td>\n",
       "      <td>51.0</td>\n",
       "      <td>20.25</td>\n",
       "      <td>9.00</td>\n",
       "      <td>18.19</td>\n",
       "    </tr>\n",
       "    <tr>\n",
       "      <th>2</th>\n",
       "      <td>Bangalore</td>\n",
       "      <td>Female</td>\n",
       "      <td>25.0</td>\n",
       "      <td>20.57</td>\n",
       "      <td>8.47</td>\n",
       "      <td>16.32</td>\n",
       "    </tr>\n",
       "    <tr>\n",
       "      <th>3</th>\n",
       "      <td>Mumbai</td>\n",
       "      <td>Female</td>\n",
       "      <td>33.0</td>\n",
       "      <td>20.25</td>\n",
       "      <td>8.43</td>\n",
       "      <td>16.70</td>\n",
       "    </tr>\n",
       "    <tr>\n",
       "      <th>4</th>\n",
       "      <td>mumbai</td>\n",
       "      <td>Male</td>\n",
       "      <td>67.0</td>\n",
       "      <td>20.63</td>\n",
       "      <td>8.23</td>\n",
       "      <td>16.77</td>\n",
       "    </tr>\n",
       "    <tr>\n",
       "      <th>...</th>\n",
       "      <td>...</td>\n",
       "      <td>...</td>\n",
       "      <td>...</td>\n",
       "      <td>...</td>\n",
       "      <td>...</td>\n",
       "      <td>...</td>\n",
       "    </tr>\n",
       "    <tr>\n",
       "      <th>9995</th>\n",
       "      <td>Mumbai</td>\n",
       "      <td>female</td>\n",
       "      <td>47.0</td>\n",
       "      <td>20.57</td>\n",
       "      <td>7.67</td>\n",
       "      <td>14.61</td>\n",
       "    </tr>\n",
       "    <tr>\n",
       "      <th>9996</th>\n",
       "      <td>Bangalore</td>\n",
       "      <td>Male</td>\n",
       "      <td>44.0</td>\n",
       "      <td>23.28</td>\n",
       "      <td>7.34</td>\n",
       "      <td>14.29</td>\n",
       "    </tr>\n",
       "    <tr>\n",
       "      <th>9997</th>\n",
       "      <td>Bangalore</td>\n",
       "      <td>female</td>\n",
       "      <td>58.0</td>\n",
       "      <td>23.22</td>\n",
       "      <td>6.17</td>\n",
       "      <td>16.16</td>\n",
       "    </tr>\n",
       "    <tr>\n",
       "      <th>9998</th>\n",
       "      <td>Bangalore</td>\n",
       "      <td>Male</td>\n",
       "      <td>50.0</td>\n",
       "      <td>19.41</td>\n",
       "      <td>5.12</td>\n",
       "      <td>22.54</td>\n",
       "    </tr>\n",
       "    <tr>\n",
       "      <th>9999</th>\n",
       "      <td>Bangalore</td>\n",
       "      <td>Male</td>\n",
       "      <td>21.0</td>\n",
       "      <td>19.66</td>\n",
       "      <td>5.77</td>\n",
       "      <td>16.37</td>\n",
       "    </tr>\n",
       "  </tbody>\n",
       "</table>\n",
       "<p>10000 rows × 6 columns</p>\n",
       "</div>"
      ],
      "text/plain": [
       "           city  gender   age    bmi  sleep   days\n",
       "0        mumbai    Male  60.0  20.18   6.74  15.52\n",
       "1        mumbai  Female  51.0  20.25   9.00  18.19\n",
       "2     Bangalore  Female  25.0  20.57   8.47  16.32\n",
       "3        Mumbai  Female  33.0  20.25   8.43  16.70\n",
       "4        mumbai    Male  67.0  20.63   8.23  16.77\n",
       "...         ...     ...   ...    ...    ...    ...\n",
       "9995     Mumbai  female  47.0  20.57   7.67  14.61\n",
       "9996  Bangalore    Male  44.0  23.28   7.34  14.29\n",
       "9997  Bangalore  female  58.0  23.22   6.17  16.16\n",
       "9998  Bangalore    Male  50.0  19.41   5.12  22.54\n",
       "9999  Bangalore    Male  21.0  19.66   5.77  16.37\n",
       "\n",
       "[10000 rows x 6 columns]"
      ]
     },
     "execution_count": 2,
     "metadata": {},
     "output_type": "execute_result"
    }
   ],
   "source": [
    "# Load data yaha kaggle se Jo CSV download hogi wo utha lena\n",
    "data = pd.read_csv('drug_recovery.csv')\n",
    "df=data\n",
    "df"
   ]
  },
  {
   "cell_type": "markdown",
   "id": "b5e576e2-b34c-4084-bb05-a77767471ca5",
   "metadata": {},
   "source": [
    "### EDA and Data cleaning"
   ]
  },
  {
   "cell_type": "code",
   "execution_count": 3,
   "id": "96d4fa2d",
   "metadata": {},
   "outputs": [
    {
     "name": "stdout",
     "output_type": "stream",
     "text": [
      "<class 'pandas.core.frame.DataFrame'>\n",
      "RangeIndex: 10000 entries, 0 to 9999\n",
      "Data columns (total 6 columns):\n",
      " #   Column  Non-Null Count  Dtype  \n",
      "---  ------  --------------  -----  \n",
      " 0   city    10000 non-null  object \n",
      " 1   gender  10000 non-null  object \n",
      " 2   age     9908 non-null   float64\n",
      " 3   bmi     10000 non-null  float64\n",
      " 4   sleep   10000 non-null  float64\n",
      " 5   days    10000 non-null  float64\n",
      "dtypes: float64(4), object(2)\n",
      "memory usage: 468.9+ KB\n"
     ]
    }
   ],
   "source": [
    "df.info()"
   ]
  },
  {
   "cell_type": "code",
   "execution_count": 4,
   "id": "44db79f6",
   "metadata": {},
   "outputs": [
    {
     "data": {
      "text/html": [
       "<div>\n",
       "<style scoped>\n",
       "    .dataframe tbody tr th:only-of-type {\n",
       "        vertical-align: middle;\n",
       "    }\n",
       "\n",
       "    .dataframe tbody tr th {\n",
       "        vertical-align: top;\n",
       "    }\n",
       "\n",
       "    .dataframe thead th {\n",
       "        text-align: right;\n",
       "    }\n",
       "</style>\n",
       "<table border=\"1\" class=\"dataframe\">\n",
       "  <thead>\n",
       "    <tr style=\"text-align: right;\">\n",
       "      <th></th>\n",
       "      <th>city</th>\n",
       "      <th>gender</th>\n",
       "      <th>age</th>\n",
       "      <th>bmi</th>\n",
       "      <th>sleep</th>\n",
       "      <th>days</th>\n",
       "    </tr>\n",
       "  </thead>\n",
       "  <tbody>\n",
       "    <tr>\n",
       "      <th>count</th>\n",
       "      <td>10000</td>\n",
       "      <td>10000</td>\n",
       "      <td>9908.000000</td>\n",
       "      <td>10000.000000</td>\n",
       "      <td>10000.000000</td>\n",
       "      <td>10000.000000</td>\n",
       "    </tr>\n",
       "    <tr>\n",
       "      <th>unique</th>\n",
       "      <td>4</td>\n",
       "      <td>4</td>\n",
       "      <td>NaN</td>\n",
       "      <td>NaN</td>\n",
       "      <td>NaN</td>\n",
       "      <td>NaN</td>\n",
       "    </tr>\n",
       "    <tr>\n",
       "      <th>top</th>\n",
       "      <td>Mumbai</td>\n",
       "      <td>Male</td>\n",
       "      <td>NaN</td>\n",
       "      <td>NaN</td>\n",
       "      <td>NaN</td>\n",
       "      <td>NaN</td>\n",
       "    </tr>\n",
       "    <tr>\n",
       "      <th>freq</th>\n",
       "      <td>4026</td>\n",
       "      <td>3998</td>\n",
       "      <td>NaN</td>\n",
       "      <td>NaN</td>\n",
       "      <td>NaN</td>\n",
       "      <td>NaN</td>\n",
       "    </tr>\n",
       "    <tr>\n",
       "      <th>mean</th>\n",
       "      <td>NaN</td>\n",
       "      <td>NaN</td>\n",
       "      <td>50.562071</td>\n",
       "      <td>21.676711</td>\n",
       "      <td>6.999622</td>\n",
       "      <td>15.770061</td>\n",
       "    </tr>\n",
       "    <tr>\n",
       "      <th>std</th>\n",
       "      <td>NaN</td>\n",
       "      <td>NaN</td>\n",
       "      <td>44.020977</td>\n",
       "      <td>1.866919</td>\n",
       "      <td>1.173446</td>\n",
       "      <td>2.579236</td>\n",
       "    </tr>\n",
       "    <tr>\n",
       "      <th>min</th>\n",
       "      <td>NaN</td>\n",
       "      <td>NaN</td>\n",
       "      <td>18.000000</td>\n",
       "      <td>18.500000</td>\n",
       "      <td>5.000000</td>\n",
       "      <td>10.020000</td>\n",
       "    </tr>\n",
       "    <tr>\n",
       "      <th>25%</th>\n",
       "      <td>NaN</td>\n",
       "      <td>NaN</td>\n",
       "      <td>32.000000</td>\n",
       "      <td>20.050000</td>\n",
       "      <td>5.970000</td>\n",
       "      <td>13.920000</td>\n",
       "    </tr>\n",
       "    <tr>\n",
       "      <th>50%</th>\n",
       "      <td>NaN</td>\n",
       "      <td>NaN</td>\n",
       "      <td>47.000000</td>\n",
       "      <td>21.670000</td>\n",
       "      <td>6.980000</td>\n",
       "      <td>15.550000</td>\n",
       "    </tr>\n",
       "    <tr>\n",
       "      <th>75%</th>\n",
       "      <td>NaN</td>\n",
       "      <td>NaN</td>\n",
       "      <td>61.000000</td>\n",
       "      <td>23.280000</td>\n",
       "      <td>8.030000</td>\n",
       "      <td>17.490000</td>\n",
       "    </tr>\n",
       "    <tr>\n",
       "      <th>max</th>\n",
       "      <td>NaN</td>\n",
       "      <td>NaN</td>\n",
       "      <td>550.000000</td>\n",
       "      <td>24.900000</td>\n",
       "      <td>9.000000</td>\n",
       "      <td>23.990000</td>\n",
       "    </tr>\n",
       "  </tbody>\n",
       "</table>\n",
       "</div>"
      ],
      "text/plain": [
       "          city gender          age           bmi         sleep          days\n",
       "count    10000  10000  9908.000000  10000.000000  10000.000000  10000.000000\n",
       "unique       4      4          NaN           NaN           NaN           NaN\n",
       "top     Mumbai   Male          NaN           NaN           NaN           NaN\n",
       "freq      4026   3998          NaN           NaN           NaN           NaN\n",
       "mean       NaN    NaN    50.562071     21.676711      6.999622     15.770061\n",
       "std        NaN    NaN    44.020977      1.866919      1.173446      2.579236\n",
       "min        NaN    NaN    18.000000     18.500000      5.000000     10.020000\n",
       "25%        NaN    NaN    32.000000     20.050000      5.970000     13.920000\n",
       "50%        NaN    NaN    47.000000     21.670000      6.980000     15.550000\n",
       "75%        NaN    NaN    61.000000     23.280000      8.030000     17.490000\n",
       "max        NaN    NaN   550.000000     24.900000      9.000000     23.990000"
      ]
     },
     "execution_count": 4,
     "metadata": {},
     "output_type": "execute_result"
    }
   ],
   "source": [
    "df.describe(include=\"all\")"
   ]
  },
  {
   "cell_type": "markdown",
   "id": "1afbb000-a492-4412-99c2-e9f8f1f9e9ef",
   "metadata": {},
   "source": [
    "There is a difference between mean and median of age i.e. There are outliers"
   ]
  },
  {
   "cell_type": "code",
   "execution_count": 5,
   "id": "ea21bab9",
   "metadata": {},
   "outputs": [
    {
     "data": {
      "text/plain": [
       "city         4\n",
       "gender       4\n",
       "age         67\n",
       "bmi        100\n",
       "sleep      100\n",
       "days      1247\n",
       "dtype: int64"
      ]
     },
     "execution_count": 5,
     "metadata": {},
     "output_type": "execute_result"
    }
   ],
   "source": [
    "df=data\n",
    "df.nunique()"
   ]
  },
  {
   "cell_type": "code",
   "execution_count": 6,
   "id": "aba8535b",
   "metadata": {},
   "outputs": [
    {
     "data": {
      "text/plain": [
       "city       0\n",
       "gender     0\n",
       "age       92\n",
       "bmi        0\n",
       "sleep      0\n",
       "days       0\n",
       "dtype: int64"
      ]
     },
     "execution_count": 6,
     "metadata": {},
     "output_type": "execute_result"
    }
   ],
   "source": [
    "df.isnull().sum()"
   ]
  },
  {
   "cell_type": "markdown",
   "id": "1afeda30-d32f-433c-ac2b-4ca42546a0b0",
   "metadata": {},
   "source": [
    "Here, We can see age column have missing values. Let's replace it by mean of age"
   ]
  },
  {
   "cell_type": "code",
   "execution_count": 7,
   "id": "624e902e",
   "metadata": {},
   "outputs": [
    {
     "name": "stdout",
     "output_type": "stream",
     "text": [
      "Mean age  is  50.562071053693984\n"
     ]
    }
   ],
   "source": [
    "print(\"Mean age  is \",np.mean(df.age))"
   ]
  },
  {
   "cell_type": "code",
   "execution_count": 8,
   "id": "b6248197",
   "metadata": {},
   "outputs": [],
   "source": [
    "df.fillna({\"age\":np.mean(df.age)}, inplace=True)"
   ]
  },
  {
   "cell_type": "code",
   "execution_count": 9,
   "id": "138cebd5-59d7-46d5-9c4c-56eafc466a92",
   "metadata": {},
   "outputs": [
    {
     "name": "stdout",
     "output_type": "stream",
     "text": [
      "['Male' 'Female' 'female' 'male']\n",
      "['mumbai' 'Bangalore' 'Mumbai' 'bangalore']\n"
     ]
    }
   ],
   "source": [
    "print(df[\"gender\"].unique())\n",
    "print(df[\"city\"].unique())"
   ]
  },
  {
   "cell_type": "markdown",
   "id": "8211e0d5-2b38-44a9-bed4-2d447bbc314e",
   "metadata": {},
   "source": [
    "Here we can see that there are Two cities and two genders but duw to case sensitivity it is showing 4 unique. We will treat them."
   ]
  },
  {
   "cell_type": "code",
   "execution_count": 10,
   "id": "7659c874",
   "metadata": {},
   "outputs": [],
   "source": [
    "df[\"gender\"]=df.gender.str.lower()\n",
    "df[\"city\"]=df.city.str.lower()"
   ]
  },
  {
   "cell_type": "code",
   "execution_count": 11,
   "id": "710774cf-a571-4a9b-828e-2b5f5c755ec6",
   "metadata": {},
   "outputs": [
    {
     "data": {
      "text/plain": [
       "<Axes: ylabel='days'>"
      ]
     },
     "execution_count": 11,
     "metadata": {},
     "output_type": "execute_result"
    },
    {
     "data": {
      "image/png": "[encoded data removed]",
      "text/plain": [
       "<Figure size 640x480 with 4 Axes>"
      ]
     },
     "metadata": {},
     "output_type": "display_data"
    }
   ],
   "source": [
    "plt.figure()\n",
    "plt.subplot(2,2,1)\n",
    "sns.boxplot(df[\"age\"])\n",
    "plt.subplot(2,2,2)\n",
    "sns.boxplot(df[\"bmi\"])\n",
    "plt.subplot(2,2,3)\n",
    "sns.boxplot(df[\"sleep\"])\n",
    "plt.subplot(2,2,4)\n",
    "sns.boxplot(df[\"days\"])"
   ]
  },
  {
   "cell_type": "code",
   "execution_count": 12,
   "id": "582fb8e2",
   "metadata": {},
   "outputs": [],
   "source": [
    "q1= df.age.quantile(0.25)\n",
    "q3= df.age.quantile(0.75)\n",
    "iqr=q3-q1\n",
    "lower_bound=q1 - 1.5*iqr\n",
    "upper_bound=q3 + 1.5*iqr\n",
    "df=df[(df.age>= lower_bound) & (df.age<=upper_bound)]"
   ]
  },
  {
   "cell_type": "code",
   "execution_count": 13,
   "id": "5eaff012-ecb9-4dfa-84af-e31d4ed8d6d2",
   "metadata": {},
   "outputs": [],
   "source": [
    "q1= df.days.quantile(0.25)\n",
    "q3= df.days.quantile(0.75)\n",
    "iqr=q3-q1\n",
    "lower_bound=q1 - 1.5*iqr\n",
    "upper_bound=q3 + 1.5*iqr\n",
    "df=df[(df.days>= lower_bound) & (df.days<=upper_bound)]"
   ]
  },
  {
   "cell_type": "code",
   "execution_count": 14,
   "id": "bddf6d35",
   "metadata": {},
   "outputs": [
    {
     "data": {
      "text/plain": [
       "<Axes: xlabel='gender', ylabel='count'>"
      ]
     },
     "execution_count": 14,
     "metadata": {},
     "output_type": "execute_result"
    },
    {
     "data": {
      "image/png": "[encoded data removed]",
      "text/plain": [
       "<Figure size 500x400 with 2 Axes>"
      ]
     },
     "metadata": {},
     "output_type": "display_data"
    }
   ],
   "source": [
    "plt.figure(figsize=(5,4))\n",
    "plt.subplot(1,2,1)\n",
    "sns.countplot(x=\"city\", data=df)\n",
    "plt.subplot(1,2,2)\n",
    "sns.countplot(x=\"gender\", data=df, color=\"Red\")"
   ]
  },
  {
   "cell_type": "code",
   "execution_count": 15,
   "id": "cf8195f4-0e26-42dc-a202-f77cb3216503",
   "metadata": {},
   "outputs": [
    {
     "data": {
      "text/plain": [
       "<Axes: ylabel='days'>"
      ]
     },
     "execution_count": 15,
     "metadata": {},
     "output_type": "execute_result"
    },
    {
     "data": {
      "image/png": "[encoded data removed]",
      "text/plain": [
       "<Figure size 640x480 with 4 Axes>"
      ]
     },
     "metadata": {},
     "output_type": "display_data"
    }
   ],
   "source": [
    "plt.figure()\n",
    "plt.subplot(2,2,1)\n",
    "sns.boxplot(df[\"age\"])\n",
    "plt.subplot(2,2,2)\n",
    "sns.boxplot(df[\"bmi\"])\n",
    "plt.subplot(2,2,3)\n",
    "sns.boxplot(df[\"sleep\"])\n",
    "plt.subplot(2,2,4)\n",
    "sns.boxplot(df[\"days\"])"
   ]
  },
  {
   "cell_type": "code",
   "execution_count": 16,
   "id": "070362e2-4e47-405f-866c-29c72a280894",
   "metadata": {},
   "outputs": [
    {
     "data": {
      "text/plain": [
       "<Axes: xlabel='days', ylabel='Count'>"
      ]
     },
     "execution_count": 16,
     "metadata": {},
     "output_type": "execute_result"
    },
    {
     "data": {
      "image/png": "[encoded data removed]",
      "text/plain": [
       "<Figure size 600x600 with 4 Axes>"
      ]
     },
     "metadata": {},
     "output_type": "display_data"
    }
   ],
   "source": [
    "plt.figure(figsize=(6,6))\n",
    "plt.subplot(2,2,1)\n",
    "sns.histplot(df[\"age\"],kde=True)\n",
    "plt.subplot(2,2,2)\n",
    "sns.histplot(df[\"bmi\"],kde=True)\n",
    "plt.subplot(2,2,3)\n",
    "sns.histplot(df[\"sleep\"],kde=True)\n",
    "plt.subplot(2,2,4)\n",
    "sns.histplot(df[\"days\"],kde=True)"
   ]
  },
  {
   "cell_type": "markdown",
   "id": "60817ead-c62a-4f64-860c-28fb17e05a09",
   "metadata": {},
   "source": [
    "Here, We found that Number of males and females are equal. People are equal from both cities. \n",
    "There was some outliers in age and days column.\n",
    "Days follows Normal distribution while age, BMI and sleep are uniqormally distributted."
   ]
  },
  {
   "cell_type": "markdown",
   "id": "db09b377-fa06-451d-9932-f50d1a69d06b",
   "metadata": {},
   "source": [
    "### Hypothesis Test\n",
    "We will go with two sample T test. Assuming level of significance 5%"
   ]
  },
  {
   "cell_type": "code",
   "execution_count": 17,
   "id": "60b01e15",
   "metadata": {},
   "outputs": [],
   "source": [
    "male= df[df.gender==\"male\"]\n",
    "female=df[df.gender==\"female\"]\n",
    "t, p= ttest_ind(male.days, female.days)"
   ]
  },
  {
   "cell_type": "code",
   "execution_count": 18,
   "id": "b96cd303",
   "metadata": {},
   "outputs": [
    {
     "name": "stdout",
     "output_type": "stream",
     "text": [
      "Since P-Value= 0.5807149072076832 , We failed to reject Null Hypothesis i.e. There is no effect of Gender\n"
     ]
    }
   ],
   "source": [
    "if p < 0.05:\n",
    "    print ('Since P-Value=',p , \",Null Hypothesis is rejected, We accept Alterive hypothesis i.e.There is an effect of Gender\")\n",
    "else:\n",
    "    print('Since P-Value=',p , \", We failed to reject Null Hypothesis i.e. There is no effect of Gender\")"
   ]
  },
  {
   "cell_type": "code",
   "execution_count": 19,
   "id": "fd2f8e5e",
   "metadata": {},
   "outputs": [
    {
     "data": {
      "text/plain": [
       "array(['mumbai', 'bangalore'], dtype=object)"
      ]
     },
     "execution_count": 19,
     "metadata": {},
     "output_type": "execute_result"
    }
   ],
   "source": [
    "df.city.unique()"
   ]
  },
  {
   "cell_type": "code",
   "execution_count": 20,
   "id": "7b8d51b2",
   "metadata": {},
   "outputs": [],
   "source": [
    "mum=df[df.city==\"mumbai\"]\n",
    "blr=df[df.city==\"bangalore\"]"
   ]
  },
  {
   "cell_type": "code",
   "execution_count": 21,
   "id": "71111275",
   "metadata": {},
   "outputs": [],
   "source": [
    "t, p= ttest_ind(mum.days, blr.days)"
   ]
  },
  {
   "cell_type": "code",
   "execution_count": 22,
   "id": "874ebe1f",
   "metadata": {},
   "outputs": [
    {
     "name": "stdout",
     "output_type": "stream",
     "text": [
      "Since P-Value= 4.457368128746736e-99 ,We accept Alterive hypothesis i.e. There is an effect of City \n"
     ]
    }
   ],
   "source": [
    "if p < 0.05:\n",
    "    print ('Since P-Value=',p , \",We accept Alterive hypothesis i.e. There is an effect of City \")\n",
    "else:\n",
    "    print('Since P-Value=',p , \",We failed to reject Null Hypothesis i.e. There is no effect of City\")"
   ]
  },
  {
   "cell_type": "code",
   "execution_count": null,
   "id": "33386d6e-5fd7-47c5-aa38-f7039d20326b",
   "metadata": {},
   "outputs": [],
   "source": []
  },
  {
   "cell_type": "markdown",
   "id": "60dba95c-d234-40e8-b459-4d7e8be44071",
   "metadata": {},
   "source": [
    "### Correlation Test"
   ]
  },
  {
   "cell_type": "code",
   "execution_count": 23,
   "id": "4600b36c",
   "metadata": {},
   "outputs": [],
   "source": [
    "correlatiom=df.corr(numeric_only=True)"
   ]
  },
  {
   "cell_type": "code",
   "execution_count": 24,
   "id": "8f0350e8-f360-4b5c-830d-163d7bf4de8b",
   "metadata": {},
   "outputs": [
    {
     "data": {
      "text/plain": [
       "<Axes: >"
      ]
     },
     "execution_count": 24,
     "metadata": {},
     "output_type": "execute_result"
    },
    {
     "data": {
      "image/png": "[encoded data removed]",
      "text/plain": [
       "<Figure size 640x480 with 2 Axes>"
      ]
     },
     "metadata": {},
     "output_type": "display_data"
    }
   ],
   "source": [
    "sns.heatmap(correlatiom,annot=True)"
   ]
  },
  {
   "cell_type": "markdown",
   "id": "f3d7cc47-f5f5-4dfb-bedf-6de6bc2b3700",
   "metadata": {},
   "source": [
    "Here, We can see some moderate positive correlation between age and days of recovery."
   ]
  },
  {
   "cell_type": "code",
   "execution_count": null,
   "id": "98fb884b-c0ac-4c18-be23-0d53349275fb",
   "metadata": {},
   "outputs": [],
   "source": []
  }
 ],
 "metadata": {
  "kernelspec": {
   "display_name": "Python 3 (ipykernel)",
   "language": "python",
   "name": "python3"
  },
  "language_info": {
   "codemirror_mode": {
    "name": "ipython",
    "version": 3
   },
   "file_extension": ".py",
   "mimetype": "text/x-python",
   "name": "python",
   "nbconvert_exporter": "python",
   "pygments_lexer": "ipython3",
   "version": "3.11.7"
  },
  "varInspector": {
   "cols": {
    "lenName": 16,
    "lenType": 16,
    "lenVar": 40
   },
   "kernels_config": {
    "python": {
     "delete_cmd_postfix": "",
     "delete_cmd_prefix": "del ",
     "library": "var_list.py",
     "varRefreshCmd": "print(var_dic_list())"
    },
    "r": {
     "delete_cmd_postfix": ") ",
     "delete_cmd_prefix": "rm(",
     "library": "var_list.r",
     "varRefreshCmd": "cat(var_dic_list()) "
    }
   },
   "types_to_exclude": [
    "module",
    "function",
    "builtin_function_or_method",
    "instance",
    "_Feature"
   ],
   "window_display": false
  }
 },
 "nbformat": 4,
 "nbformat_minor": 5
}
